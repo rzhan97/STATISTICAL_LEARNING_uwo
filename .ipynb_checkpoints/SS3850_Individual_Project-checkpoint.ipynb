{
 "cells": [
  {
   "cell_type": "markdown",
   "metadata": {},
   "source": [
    "# Play with music data\n",
    "- Author : Ruiying Zhang\n",
    "- Student Number : 250839530\n",
    "- Date: April 12th."
   ]
  },
  {
   "cell_type": "markdown",
   "metadata": {},
   "source": [
    "## Introduction\n",
    "The goal of my project have several parts:\n",
    "- learn how to extract data from an api. \n",
    "- Learning how to clean and transform data.\n",
    "- Deploy several methods has been learn in class and compare their performance.\n",
    "- get more familiar with the lastfm api, to how to utilize it to make recommendation.\n",
    "- learn how to load the data into SQLite3."
   ]
  },
  {
   "cell_type": "markdown",
   "metadata": {},
   "source": [
    "Describe the dataset you are using:\n",
    "- I'm using two dataset:\n",
    "    - 1.The top 50 songs on the chart in China along with its tags,from LastFM API.\n",
    "    - 2.The top 50 songs basic information and their genre, from spotify organize your music(reference.2)"
   ]
  },
  {
   "cell_type": "markdown",
   "metadata": {},
   "source": [
    "Provide a literature review of what other people have done with the dataset you are using:\n",
    "- However, I'm not intent to find the literature that describe to use those datase, but I do learn from a lot of different resourse,which will be provided on reference part."
   ]
  },
  {
   "cell_type": "markdown",
   "metadata": {},
   "source": [
    "Clearly describe what you will be doing with the dataset, and how your methods might be differentfrom others:\n",
    "- For Lastfm dataset,I will:\n",
    "    1. Ecxtract top 50 popular songs in China.\n",
    "    2. Plot top 10 songs.\n",
    "    2. combine it with those songs' tags to see the relationship between its popularity and tags. \n",
    "    3. Use Linear regression, Ridge regression, Lasso regression and PCA regression fit data and predict\n",
    "    4. Compare models's performance\n",
    "    5. Response will be popularity and the variable will be those songs' tags.\n",
    "- For my local dataset that manually extract from Spotify,I will :\n",
    "    1. Check the relationship between top-tags songs been given and this song's basic information (ex.bpm,duration,Acousticness,Energy,Danceability etc)\n",
    "    2. Use Decision Tree and KNN to fit data and predict \n",
    "    3. Compare those two methods performance.\n",
    "    4. Response will be tags, variable will be basic infomations."
   ]
  },
  {
   "cell_type": "markdown",
   "metadata": {},
   "source": [
    "### Prepare libraries and function"
   ]
  },
  {
   "cell_type": "code",
   "execution_count": 1,
   "metadata": {},
   "outputs": [],
   "source": [
    "import requests\n",
    "import json\n",
    "import time\n",
    "import pandas as pd\n",
    "import numpy as np\n",
    "import matplotlib.pyplot as plt\n",
    "import seaborn as sns"
   ]
  },
  {
   "cell_type": "code",
   "execution_count": 2,
   "metadata": {},
   "outputs": [],
   "source": [
    "def lastfm_get(payload):\n",
    "\n",
    "    headers = {'user-agent': 'rzhan97'}\n",
    "    url = 'http://ws.audioscrobbler.com/2.0/'\n",
    "\n",
    "    payload['api_key'] = '46cebcc1999b52ca7ee2d0fe986c187d'\n",
    "    payload['format'] = 'json'\n",
    "\n",
    "    response = requests.get(url, headers=headers, params=payload)\n",
    "    return response\n",
    "\n",
    "#This function is only help for me to understand json file\n",
    "def jprint(obj):\n",
    "    text = json.dumps(obj, sort_keys=True, indent=4)\n",
    "    print(text)\n",
    "\n",
    "#Learn these functions from reference 1."
   ]
  },
  {
   "cell_type": "markdown",
   "metadata": {},
   "source": [
    "### Ecxtract top 50 popular songs in China "
   ]
  },
  {
   "cell_type": "code",
   "execution_count": 3,
   "metadata": {},
   "outputs": [],
   "source": [
    "song_response = lastfm_get({\n",
    "    'method': 'geo.getTopTracks',\n",
    "    'country' : 'China'\n",
    "    })\n",
    "#jprint(song_response.json()['tracks']['track'])"
   ]
  },
  {
   "cell_type": "code",
   "execution_count": 4,
   "metadata": {},
   "outputs": [],
   "source": [
    "tag_response = lastfm_get({\n",
    "    'method': 'track.getTopTags',\n",
    "    'artist' :'Adele',\n",
    "    'track' : 'Hello'\n",
    "    })\n",
    "#jprint([t['name'] for t in tag_response.json()['toptags']['tag'][:1]])"
   ]
  },
  {
   "cell_type": "code",
   "execution_count": 5,
   "metadata": {},
   "outputs": [],
   "source": [
    "#Get the songs' data first\n",
    "def lookup_songdata(country):\n",
    "    song_response = lastfm_get({\n",
    "    'method': 'geo.getTopTracks',\n",
    "    'country' : country\n",
    "    })\n",
    "    \n",
    "    # return nonthing when error happen\n",
    "    if song_response.status_code != 200:\n",
    "        return None\n",
    "\n",
    "    #Since it's can be convert into dataframe directly, I'm going to use \n",
    "    #some variables to store it first\n",
    "    song = [t['name'] for t in song_response.json()['tracks']['track']]\n",
    "    artist = [t['artist']['name'] for t in song_response.json()['tracks']['track']]\n",
    "    duration = [t['duration'] for t in song_response.json()['tracks']['track']]\n",
    "    listeners = [t['listeners'] for t in song_response.json()['tracks']['track']]\n",
    "    song_id = [t['mbid'] for t in song_response.json()['tracks']['track']]\n",
    "    \n",
    "    #for not reach the limit\n",
    "    if not getattr(tag_response, 'from_cache', False):\n",
    "        time.sleep(0.25)\n",
    "        \n",
    "    return song_id,song,artist,duration,listeners"
   ]
  },
  {
   "cell_type": "code",
   "execution_count": 6,
   "metadata": {},
   "outputs": [],
   "source": [
    "result = lookup_songdata('China')"
   ]
  },
  {
   "cell_type": "code",
   "execution_count": 7,
   "metadata": {},
   "outputs": [],
   "source": [
    "song_id = result[0]\n",
    "song_name = result[1]\n",
    "artist = result[2]\n",
    "duration = result[3]\n",
    "#convert to int\n",
    "duration = list(map(int, duration))\n",
    "listerners = result[4]\n",
    "#convert to int\n",
    "listerners = list(map(int, listerners))"
   ]
  },
  {
   "cell_type": "code",
   "execution_count": 8,
   "metadata": {},
   "outputs": [],
   "source": [
    "song_info = pd.DataFrame(zip(song_id,song_name,artist,duration,listerners), \n",
    "                       columns =['song_id','song_name','artist','duration','listerners'])\n"
   ]
  },
  {
   "cell_type": "code",
   "execution_count": 9,
   "metadata": {},
   "outputs": [],
   "source": [
    "#song_info.head()"
   ]
  },
  {
   "cell_type": "code",
   "execution_count": 10,
   "metadata": {},
   "outputs": [],
   "source": [
    "#Get everysong's tag\n",
    "def lookup_songtag(song,artist):\n",
    "    tag_response = lastfm_get({\n",
    "    'method': 'track.getTopTags',\n",
    "    'track' : song,\n",
    "    'artist' :artist\n",
    "    })\n",
    "    \n",
    "    # if there are error, we don't return anything\n",
    "    if tag_response.status_code != 200:\n",
    "        return None\n",
    "    \n",
    "    #I'm intersted into top 3 tags\n",
    "    tag = [t['name'] for t in tag_response.json()['toptags']['tag'][:3]]\n",
    "    # rate limiting\n",
    "    if not getattr(tag_response, 'from_cache', False):\n",
    "        time.sleep(0.25)\n",
    "    \n",
    "    return tag"
   ]
  },
  {
   "cell_type": "code",
   "execution_count": 11,
   "metadata": {},
   "outputs": [],
   "source": [
    "tag = []\n",
    "for i in range(len(song_info)):\n",
    "    tag.append(lookup_songtag(song_info['song_name'][i],song_info['artist'][i]))"
   ]
  },
  {
   "cell_type": "code",
   "execution_count": 12,
   "metadata": {},
   "outputs": [],
   "source": [
    "#Clean the tag features\n",
    "tag = list(map(str, tag))\n",
    "song_info['tag'] = tag\n",
    "song_info['tag'] = song_info['tag'].str.replace(\"'\", \"\")\n",
    "song_info['tag'] = song_info['tag'].str.replace(\"[\", \"\")\n",
    "song_info['tag'] = song_info['tag'].str.replace(\"]\", \"\")"
   ]
  },
  {
   "cell_type": "code",
   "execution_count": 13,
   "metadata": {},
   "outputs": [],
   "source": [
    "#song_info.head()"
   ]
  },
  {
   "cell_type": "markdown",
   "metadata": {},
   "source": [
    "### Plot top 10 songs."
   ]
  },
  {
   "cell_type": "code",
   "execution_count": 14,
   "metadata": {},
   "outputs": [],
   "source": [
    "#song_info.info()"
   ]
  },
  {
   "cell_type": "markdown",
   "metadata": {},
   "source": [
    "### Le's take a look at the top 10 music"
   ]
  },
  {
   "cell_type": "code",
   "execution_count": 15,
   "metadata": {},
   "outputs": [
    {
     "data": {
      "text/html": [
       "<div>\n",
       "<style scoped>\n",
       "    .dataframe tbody tr th:only-of-type {\n",
       "        vertical-align: middle;\n",
       "    }\n",
       "\n",
       "    .dataframe tbody tr th {\n",
       "        vertical-align: top;\n",
       "    }\n",
       "\n",
       "    .dataframe thead th {\n",
       "        text-align: right;\n",
       "    }\n",
       "</style>\n",
       "<table border=\"1\" class=\"dataframe\">\n",
       "  <thead>\n",
       "    <tr style=\"text-align: right;\">\n",
       "      <th></th>\n",
       "      <th>song_name</th>\n",
       "      <th>duration</th>\n",
       "      <th>listerners</th>\n",
       "    </tr>\n",
       "  </thead>\n",
       "  <tbody>\n",
       "    <tr>\n",
       "      <th>0</th>\n",
       "      <td>Smells Like Teen Spirit</td>\n",
       "      <td>301</td>\n",
       "      <td>2147780</td>\n",
       "    </tr>\n",
       "    <tr>\n",
       "      <th>1</th>\n",
       "      <td>Creep</td>\n",
       "      <td>239</td>\n",
       "      <td>1714486</td>\n",
       "    </tr>\n",
       "    <tr>\n",
       "      <th>2</th>\n",
       "      <td>Viva la Vida</td>\n",
       "      <td>241</td>\n",
       "      <td>1694397</td>\n",
       "    </tr>\n",
       "    <tr>\n",
       "      <th>3</th>\n",
       "      <td>The Scientist</td>\n",
       "      <td>309</td>\n",
       "      <td>1665675</td>\n",
       "    </tr>\n",
       "    <tr>\n",
       "      <th>4</th>\n",
       "      <td>Yellow</td>\n",
       "      <td>267</td>\n",
       "      <td>1626493</td>\n",
       "    </tr>\n",
       "    <tr>\n",
       "      <th>5</th>\n",
       "      <td>Rolling in the Deep</td>\n",
       "      <td>229</td>\n",
       "      <td>1312733</td>\n",
       "    </tr>\n",
       "    <tr>\n",
       "      <th>6</th>\n",
       "      <td>Intro</td>\n",
       "      <td>127</td>\n",
       "      <td>1138545</td>\n",
       "    </tr>\n",
       "    <tr>\n",
       "      <th>7</th>\n",
       "      <td>Someone Like You</td>\n",
       "      <td>283</td>\n",
       "      <td>1054295</td>\n",
       "    </tr>\n",
       "    <tr>\n",
       "      <th>8</th>\n",
       "      <td>Set Fire to the Rain</td>\n",
       "      <td>239</td>\n",
       "      <td>912075</td>\n",
       "    </tr>\n",
       "    <tr>\n",
       "      <th>9</th>\n",
       "      <td>Royals</td>\n",
       "      <td>223</td>\n",
       "      <td>910199</td>\n",
       "    </tr>\n",
       "  </tbody>\n",
       "</table>\n",
       "</div>"
      ],
      "text/plain": [
       "                 song_name  duration  listerners\n",
       "0  Smells Like Teen Spirit       301     2147780\n",
       "1                    Creep       239     1714486\n",
       "2             Viva la Vida       241     1694397\n",
       "3            The Scientist       309     1665675\n",
       "4                   Yellow       267     1626493\n",
       "5      Rolling in the Deep       229     1312733\n",
       "6                    Intro       127     1138545\n",
       "7         Someone Like You       283     1054295\n",
       "8     Set Fire to the Rain       239      912075\n",
       "9                   Royals       223      910199"
      ]
     },
     "execution_count": 15,
     "metadata": {},
     "output_type": "execute_result"
    }
   ],
   "source": [
    "#See what's the most popular 10 song in China\n",
    "top10 = song_info.sort_values(['listerners', 'song_name'], ascending = (0,1)).reset_index().head(10)\n",
    "top10 = top10.drop(['song_id','index','artist','tag'], axis=1)\n",
    "top10"
   ]
  },
  {
   "cell_type": "code",
   "execution_count": 16,
   "metadata": {},
   "outputs": [
    {
     "data": {
      "image/png": "[encoded data removed]",
      "text/plain": [
       "<Figure size 648x432 with 1 Axes>"
      ]
     },
     "metadata": {
      "needs_background": "light"
     },
     "output_type": "display_data"
    }
   ],
   "source": [
    "fig, ax = plt.subplots(figsize=(9,6))\n",
    "\n",
    "ax.barh(top10.iloc[:,0], top10.iloc[:,2], \n",
    "            color=sns.color_palette('Blues',len(top10)))\n",
    "\n",
    "for s in ['top','bottom','left','right']:\n",
    "     ax.spines[s].set_visible(False)\n",
    "\n",
    "ax.invert_yaxis()  # labels read top-to-bottom\n",
    "\n",
    "ax.set_title('Top 10 popular music in China',weight='bold',\n",
    "             loc='center', pad=10, fontsize=16)\n",
    "ax.set_xlabel('listerners', weight='bold')\n",
    "\n",
    "plt.show()"
   ]
  },
  {
   "cell_type": "code",
   "execution_count": 17,
   "metadata": {},
   "outputs": [
    {
     "data": {
      "image/png": "[encoded data removed]",
      "text/plain": [
       "<Figure size 576x360 with 1 Axes>"
      ]
     },
     "metadata": {
      "needs_background": "light"
     },
     "output_type": "display_data"
    }
   ],
   "source": [
    "#I'm also interested in the duration of each top 10 tracks\n",
    "fig, ax = plt.subplots(figsize=(8,5))\n",
    "\n",
    "mn= ax.barh(top10.iloc[:,0], top10.iloc[:,1], \n",
    "            color=sns.color_palette('Greens',len(top10)))\n",
    "\n",
    "for s in ['top','bottom','left','right']:\n",
    "    ax.spines[s].set_visible(False)\n",
    "\n",
    "ax.invert_yaxis()  # labels read top-to-bottom\n",
    "\n",
    "ax.set_title(\"Top 10 popular music's duration in China\",weight='bold',\n",
    "             loc='center', pad=10, fontsize=16)\n",
    "ax.set_xlabel('Count', weight='bold')\n",
    "\n",
    "\n",
    "# Show Plot\n",
    "plt.show()\n",
    "\n",
    "#From the plot, we can't say duration might not affect the popularity or not"
   ]
  },
  {
   "cell_type": "markdown",
   "metadata": {},
   "source": [
    "###  see the relationship between its popularity and tags. "
   ]
  },
  {
   "cell_type": "code",
   "execution_count": 18,
   "metadata": {},
   "outputs": [],
   "source": [
    "tag1=[]\n",
    "tag2=[]\n",
    "tag3=[]\n",
    "for i in range(len(song_info)):\n",
    "    tag1.append(song_info['tag'][i].split(',')[0].lower())\n",
    "    tag2.append(song_info['tag'][i].split(',')[1].replace(\" \", \"\").lower())\n",
    "    tag3.append(song_info['tag'][i].split(',')[2].replace(\" \", \"\").lower())\n",
    "#print(tag1)\n",
    "#print(tag2)\n",
    "#print(tag3)"
   ]
  },
  {
   "cell_type": "code",
   "execution_count": 19,
   "metadata": {},
   "outputs": [],
   "source": [
    "song_info['tag1'] = tag1\n",
    "song_info['tag2'] = tag2\n",
    "song_info['tag3'] = tag3\n",
    "tag_df = pd.DataFrame(zip(tag1,tag2,tag3), \n",
    "                       columns =['tag1','tag2','tag3'])\n",
    "#Since tag are category variable, I will transfer it into dummy variable\n",
    "tag_df = tag_df.stack().str.get_dummies().sum(level=0)"
   ]
  },
  {
   "cell_type": "code",
   "execution_count": 20,
   "metadata": {},
   "outputs": [],
   "source": [
    "new_df = song_info.drop(['tag','tag1','tag2','tag3'], axis=1)"
   ]
  },
  {
   "cell_type": "code",
   "execution_count": 21,
   "metadata": {},
   "outputs": [],
   "source": [
    "result = pd.concat([new_df, tag_df], axis=1)"
   ]
  },
  {
   "cell_type": "code",
   "execution_count": 22,
   "metadata": {},
   "outputs": [
    {
     "data": {
      "text/html": [
       "<div>\n",
       "<style scoped>\n",
       "    .dataframe tbody tr th:only-of-type {\n",
       "        vertical-align: middle;\n",
       "    }\n",
       "\n",
       "    .dataframe tbody tr th {\n",
       "        vertical-align: top;\n",
       "    }\n",
       "\n",
       "    .dataframe thead th {\n",
       "        text-align: right;\n",
       "    }\n",
       "</style>\n",
       "<table border=\"1\" class=\"dataframe\">\n",
       "  <thead>\n",
       "    <tr style=\"text-align: right;\">\n",
       "      <th></th>\n",
       "      <th>song_id</th>\n",
       "      <th>song_name</th>\n",
       "      <th>artist</th>\n",
       "      <th>duration</th>\n",
       "      <th>listerners</th>\n",
       "      <th>2014</th>\n",
       "      <th>2015</th>\n",
       "      <th>2016</th>\n",
       "      <th>2017</th>\n",
       "      <th>acoustic</th>\n",
       "      <th>...</th>\n",
       "      <th>pop</th>\n",
       "      <th>pop rock</th>\n",
       "      <th>powerballad</th>\n",
       "      <th>r&amp;b</th>\n",
       "      <th>rnb</th>\n",
       "      <th>rock</th>\n",
       "      <th>samsmith</th>\n",
       "      <th>soul</th>\n",
       "      <th>synthpop</th>\n",
       "      <th>worst song ever</th>\n",
       "    </tr>\n",
       "  </thead>\n",
       "  <tbody>\n",
       "    <tr>\n",
       "      <th>0</th>\n",
       "      <td></td>\n",
       "      <td>Hello</td>\n",
       "      <td>Adele</td>\n",
       "      <td>0</td>\n",
       "      <td>451045</td>\n",
       "      <td>0</td>\n",
       "      <td>1</td>\n",
       "      <td>0</td>\n",
       "      <td>0</td>\n",
       "      <td>0</td>\n",
       "      <td>...</td>\n",
       "      <td>1</td>\n",
       "      <td>0</td>\n",
       "      <td>0</td>\n",
       "      <td>0</td>\n",
       "      <td>0</td>\n",
       "      <td>0</td>\n",
       "      <td>0</td>\n",
       "      <td>1</td>\n",
       "      <td>0</td>\n",
       "      <td>0</td>\n",
       "    </tr>\n",
       "    <tr>\n",
       "      <th>1</th>\n",
       "      <td></td>\n",
       "      <td>Shape of You</td>\n",
       "      <td>Ed Sheeran</td>\n",
       "      <td>0</td>\n",
       "      <td>460476</td>\n",
       "      <td>0</td>\n",
       "      <td>0</td>\n",
       "      <td>0</td>\n",
       "      <td>1</td>\n",
       "      <td>0</td>\n",
       "      <td>...</td>\n",
       "      <td>1</td>\n",
       "      <td>0</td>\n",
       "      <td>0</td>\n",
       "      <td>0</td>\n",
       "      <td>0</td>\n",
       "      <td>0</td>\n",
       "      <td>0</td>\n",
       "      <td>0</td>\n",
       "      <td>0</td>\n",
       "      <td>0</td>\n",
       "    </tr>\n",
       "    <tr>\n",
       "      <th>2</th>\n",
       "      <td></td>\n",
       "      <td>Can't Feel My Face</td>\n",
       "      <td>The Weeknd</td>\n",
       "      <td>0</td>\n",
       "      <td>525347</td>\n",
       "      <td>0</td>\n",
       "      <td>0</td>\n",
       "      <td>0</td>\n",
       "      <td>0</td>\n",
       "      <td>0</td>\n",
       "      <td>...</td>\n",
       "      <td>0</td>\n",
       "      <td>0</td>\n",
       "      <td>0</td>\n",
       "      <td>1</td>\n",
       "      <td>1</td>\n",
       "      <td>0</td>\n",
       "      <td>0</td>\n",
       "      <td>0</td>\n",
       "      <td>0</td>\n",
       "      <td>0</td>\n",
       "    </tr>\n",
       "    <tr>\n",
       "      <th>3</th>\n",
       "      <td>2e26fe2b-9f4d-4efa-96a4-d13de78cacac</td>\n",
       "      <td>Someone Like You</td>\n",
       "      <td>Adele</td>\n",
       "      <td>283</td>\n",
       "      <td>1054295</td>\n",
       "      <td>0</td>\n",
       "      <td>0</td>\n",
       "      <td>0</td>\n",
       "      <td>0</td>\n",
       "      <td>0</td>\n",
       "      <td>...</td>\n",
       "      <td>0</td>\n",
       "      <td>0</td>\n",
       "      <td>0</td>\n",
       "      <td>0</td>\n",
       "      <td>0</td>\n",
       "      <td>0</td>\n",
       "      <td>0</td>\n",
       "      <td>1</td>\n",
       "      <td>0</td>\n",
       "      <td>0</td>\n",
       "    </tr>\n",
       "    <tr>\n",
       "      <th>4</th>\n",
       "      <td></td>\n",
       "      <td>Send My Love (To Your New Lover)</td>\n",
       "      <td>Adele</td>\n",
       "      <td>0</td>\n",
       "      <td>293437</td>\n",
       "      <td>0</td>\n",
       "      <td>0</td>\n",
       "      <td>0</td>\n",
       "      <td>0</td>\n",
       "      <td>0</td>\n",
       "      <td>...</td>\n",
       "      <td>1</td>\n",
       "      <td>0</td>\n",
       "      <td>0</td>\n",
       "      <td>0</td>\n",
       "      <td>0</td>\n",
       "      <td>0</td>\n",
       "      <td>0</td>\n",
       "      <td>1</td>\n",
       "      <td>0</td>\n",
       "      <td>0</td>\n",
       "    </tr>\n",
       "  </tbody>\n",
       "</table>\n",
       "<p>5 rows × 64 columns</p>\n",
       "</div>"
      ],
      "text/plain": [
       "                                song_id                         song_name  \\\n",
       "0                                                                   Hello   \n",
       "1                                                            Shape of You   \n",
       "2                                                      Can't Feel My Face   \n",
       "3  2e26fe2b-9f4d-4efa-96a4-d13de78cacac                  Someone Like You   \n",
       "4                                        Send My Love (To Your New Lover)   \n",
       "\n",
       "       artist  duration  listerners  2014  2015  2016  2017  acoustic  ...  \\\n",
       "0       Adele         0      451045     0     1     0     0         0  ...   \n",
       "1  Ed Sheeran         0      460476     0     0     0     1         0  ...   \n",
       "2  The Weeknd         0      525347     0     0     0     0         0  ...   \n",
       "3       Adele       283     1054295     0     0     0     0         0  ...   \n",
       "4       Adele         0      293437     0     0     0     0         0  ...   \n",
       "\n",
       "   pop  pop rock  powerballad  r&b  rnb  rock  samsmith  soul  synthpop  \\\n",
       "0    1         0            0    0    0     0         0     1         0   \n",
       "1    1         0            0    0    0     0         0     0         0   \n",
       "2    0         0            0    1    1     0         0     0         0   \n",
       "3    0         0            0    0    0     0         0     1         0   \n",
       "4    1         0            0    0    0     0         0     1         0   \n",
       "\n",
       "   worst song ever  \n",
       "0                0  \n",
       "1                0  \n",
       "2                0  \n",
       "3                0  \n",
       "4                0  \n",
       "\n",
       "[5 rows x 64 columns]"
      ]
     },
     "execution_count": 22,
     "metadata": {},
     "output_type": "execute_result"
    }
   ],
   "source": [
    "result.head()"
   ]
  },
  {
   "cell_type": "code",
   "execution_count": 23,
   "metadata": {},
   "outputs": [
    {
     "data": {
      "text/plain": [
       "(50, 64)"
      ]
     },
     "execution_count": 23,
     "metadata": {},
     "output_type": "execute_result"
    }
   ],
   "source": [
    "result.shape"
   ]
  },
  {
   "cell_type": "markdown",
   "metadata": {},
   "source": [
    "## Data Analysis\n",
    "Clearly describe your analysis procedure and the packages that you have used\n",
    "- State your results. \n",
    "- Compare the result if you have used more than one methods"
   ]
  },
  {
   "cell_type": "code",
   "execution_count": 24,
   "metadata": {},
   "outputs": [],
   "source": [
    "#Package used\n",
    "#train,test split \n",
    "from sklearn.model_selection import train_test_split\n",
    "#models\n",
    "from sklearn.linear_model import LinearRegression\n",
    "from sklearn.linear_model import RidgeCV\n",
    "from sklearn.linear_model import LassoCV\n",
    "from sklearn.linear_model import LarsCV\n",
    "#pca\n",
    "from sklearn.decomposition import PCA\n",
    "from sklearn.pipeline import Pipeline\n",
    "from sklearn.model_selection import GridSearchCV\n",
    "\n",
    "#metrics\n",
    "from sklearn import metrics\n"
   ]
  },
  {
   "cell_type": "markdown",
   "metadata": {},
   "source": [
    "### How tags effect a song's popularity?\n",
    "See can we predict the popularity base on the features we have right now."
   ]
  },
  {
   "cell_type": "code",
   "execution_count": 25,
   "metadata": {},
   "outputs": [],
   "source": [
    "train_data, test_data = train_test_split(result, test_size = 0.2, random_state=0)"
   ]
  },
  {
   "cell_type": "code",
   "execution_count": 26,
   "metadata": {},
   "outputs": [],
   "source": [
    "X_train = train_data.drop(columns = ['listerners','song_id','song_name','artist'])\n",
    "#For the response, since the scale is too large, which is not suitable for our dummy variable\n",
    "#We do want to normalize it.\n",
    "y_train = (train_data['listerners']-min(train_data['listerners']))/(max(train_data['listerners'])-min(train_data['listerners']))\n",
    "X_test = test_data.drop(columns = ['listerners','song_id','song_name','artist'])\n",
    "y_test = (test_data['listerners']-min(test_data['listerners']))/(max(test_data['listerners'])-min(test_data['listerners']))"
   ]
  },
  {
   "cell_type": "code",
   "execution_count": 27,
   "metadata": {},
   "outputs": [],
   "source": [
    "#X_train\n",
    "#y_train\n",
    "#X_test\n",
    "#y_test"
   ]
  },
  {
   "cell_type": "markdown",
   "metadata": {},
   "source": [
    "#### Linear Regression"
   ]
  },
  {
   "cell_type": "code",
   "execution_count": 28,
   "metadata": {},
   "outputs": [],
   "source": [
    "regressor = LinearRegression()  \n",
    "regressor.fit(X_train, y_train) \n",
    "\n",
    "linear_coefs = dict(\n",
    "    zip(['Intercept'] + X_train.columns.tolist()[:-1], \n",
    "        np.round(np.concatenate((regressor.intercept_, regressor.coef_), \n",
    "                                axis=None), 3))\n",
    ")"
   ]
  },
  {
   "cell_type": "code",
   "execution_count": 29,
   "metadata": {},
   "outputs": [],
   "source": [
    "y_pred = regressor.predict(X_test)"
   ]
  },
  {
   "cell_type": "code",
   "execution_count": 30,
   "metadata": {},
   "outputs": [
    {
     "name": "stdout",
     "output_type": "stream",
     "text": [
      "Linear Regression coefficients:\n"
     ]
    },
    {
     "data": {
      "text/plain": [
       "{'Intercept': 0.428,\n",
       " 'duration': -0.001,\n",
       " '2014': 0.007,\n",
       " '2015': -0.075,\n",
       " '2016': -0.225,\n",
       " '2017': -0.172,\n",
       " 'acoustic': -0.08,\n",
       " 'adele': 0.085,\n",
       " 'alternative': -0.137,\n",
       " 'alternative rock': -0.028,\n",
       " 'alternativerock': 0.031,\n",
       " 'bestof2014': 0.06,\n",
       " 'bestof2017': 0.083,\n",
       " 'british': -0.161,\n",
       " 'canadian': -0.079,\n",
       " 'catchy': -0.085,\n",
       " 'chinese': -0.08,\n",
       " 'coldplay': 0.297,\n",
       " 'dance': 0.042,\n",
       " 'dancehall': -0.058,\n",
       " 'dark': 0.0,\n",
       " 'disco': -0.0,\n",
       " 'edsheeran': 0.022,\n",
       " 'electro': -0.0,\n",
       " 'electronic': 0.051,\n",
       " 'electropop': -0.01,\n",
       " 'favoritetrackrightnow': -0.0,\n",
       " 'female vocalists': -0.041,\n",
       " 'femalevocalists': 0.143,\n",
       " 'folk': 0.148,\n",
       " 'fuckinghorrible': 0.0,\n",
       " 'funk': -0.191,\n",
       " 'grunge': 0.201,\n",
       " 'hatersgonnahate': 0.007,\n",
       " 'hip-hop': -0.139,\n",
       " 'i want drake to murder my vagina': 0.065,\n",
       " 'indie': 0.002,\n",
       " 'indiepop': -0.072,\n",
       " 'jaychou': -0.08,\n",
       " 'justinbieber': -0.062,\n",
       " 'katyperry': 0.011,\n",
       " 'katyperrybirthday': 0.011,\n",
       " 'lorde': 0.236,\n",
       " 'love': -0.003,\n",
       " 'love at first listen': 0.022,\n",
       " 'loveatfirstlisten': -0.166,\n",
       " 'lovesong': -0.003,\n",
       " 'maxmartin': 0.0,\n",
       " 'melancholy': 0.054,\n",
       " 'nirvana': 0.201,\n",
       " 'piano': 0.141,\n",
       " 'pop': -0.13,\n",
       " 'pop rock': -0.171,\n",
       " 'powerballad': 0.06,\n",
       " 'r&b': 0.0,\n",
       " 'rnb': -0.204,\n",
       " 'rock': 0.327,\n",
       " 'samsmith': 0.065,\n",
       " 'soul': -0.019,\n",
       " 'synthpop': 0.098}"
      ]
     },
     "execution_count": 30,
     "metadata": {},
     "output_type": "execute_result"
    }
   ],
   "source": [
    "print('Linear Regression coefficients:')\n",
    "linear_coefs"
   ]
  },
  {
   "cell_type": "code",
   "execution_count": 31,
   "metadata": {},
   "outputs": [
    {
     "data": {
      "text/plain": [
       "['dark',\n",
       " 'disco',\n",
       " 'electro',\n",
       " 'favoritetrackrightnow',\n",
       " 'fuckinghorrible',\n",
       " 'maxmartin',\n",
       " 'r&b']"
      ]
     },
     "execution_count": 31,
     "metadata": {},
     "output_type": "execute_result"
    }
   ],
   "source": [
    "#Let's see which tags is useless for predicting popularity in linear regression\n",
    "[key for key, value in linear_coefs.items() if value == 0]"
   ]
  },
  {
   "cell_type": "markdown",
   "metadata": {},
   "source": [
    "7 variables seems not important for popular or not."
   ]
  },
  {
   "cell_type": "markdown",
   "metadata": {},
   "source": [
    "#### Ridge Regression"
   ]
  },
  {
   "cell_type": "code",
   "execution_count": 32,
   "metadata": {},
   "outputs": [
    {
     "name": "stdout",
     "output_type": "stream",
     "text": [
      "Ridge Regression coefficients:\n"
     ]
    },
    {
     "data": {
      "text/plain": [
       "{'Intercept': 0.278,\n",
       " 'duration': 0.0,\n",
       " '2014': -0.029,\n",
       " '2015': -0.01,\n",
       " '2016': -0.097,\n",
       " '2017': -0.027,\n",
       " 'acoustic': -0.004,\n",
       " 'adele': 0.069,\n",
       " 'alternative': 0.022,\n",
       " 'alternative rock': -0.068,\n",
       " 'alternativerock': -0.029,\n",
       " 'bestof2014': 0.019,\n",
       " 'bestof2017': 0.028,\n",
       " 'british': -0.051,\n",
       " 'canadian': -0.044,\n",
       " 'catchy': -0.041,\n",
       " 'chinese': -0.121,\n",
       " 'coldplay': 0.192,\n",
       " 'dance': 0.018,\n",
       " 'dancehall': 0.002,\n",
       " 'dark': 0.0,\n",
       " 'disco': 0.0,\n",
       " 'edsheeran': -0.03,\n",
       " 'electro': 0.0,\n",
       " 'electronic': -0.019,\n",
       " 'electropop': -0.017,\n",
       " 'favoritetrackrightnow': 0.0,\n",
       " 'female vocalists': -0.057,\n",
       " 'femalevocalists': 0.055,\n",
       " 'folk': 0.087,\n",
       " 'fuckinghorrible': 0.0,\n",
       " 'funk': -0.054,\n",
       " 'grunge': 0.212,\n",
       " 'hatersgonnahate': -0.029,\n",
       " 'hip-hop': -0.026,\n",
       " 'i want drake to murder my vagina': 0.026,\n",
       " 'indie': -0.019,\n",
       " 'indiepop': -0.01,\n",
       " 'jaychou': -0.121,\n",
       " 'justinbieber': -0.024,\n",
       " 'katyperry': -0.031,\n",
       " 'katyperrybirthday': -0.031,\n",
       " 'lorde': 0.137,\n",
       " 'love': -0.048,\n",
       " 'love at first listen': -0.03,\n",
       " 'loveatfirstlisten': -0.097,\n",
       " 'lovesong': -0.048,\n",
       " 'maxmartin': 0.0,\n",
       " 'melancholy': -0.053,\n",
       " 'nirvana': 0.212,\n",
       " 'piano': 0.041,\n",
       " 'pop': -0.078,\n",
       " 'pop rock': -0.081,\n",
       " 'powerballad': 0.019,\n",
       " 'r&b': 0.0,\n",
       " 'rnb': -0.076,\n",
       " 'rock': 0.151,\n",
       " 'samsmith': -0.002,\n",
       " 'soul': 0.007,\n",
       " 'synthpop': -0.048}"
      ]
     },
     "execution_count": 32,
     "metadata": {},
     "output_type": "execute_result"
    }
   ],
   "source": [
    "#Using Ridge Regression\n",
    "ridge_cv = RidgeCV(normalize=True, alphas=np.logspace(-10, 1, 400))\n",
    "ridge_model = ridge_cv.fit(X_train, y_train)\n",
    "ridge_prediction = ridge_model.predict(X_test)\n",
    "\n",
    "ridge_coefs = dict(\n",
    "    zip(['Intercept'] + X_train.columns.tolist()[:-1], \n",
    "        np.round(np.concatenate((ridge_model.intercept_, ridge_model.coef_), \n",
    "                                axis=None), 3))\n",
    ")\n",
    "print('Ridge Regression coefficients:')\n",
    "ridge_coefs\n"
   ]
  },
  {
   "cell_type": "code",
   "execution_count": 33,
   "metadata": {},
   "outputs": [
    {
     "data": {
      "text/plain": [
       "['duration',\n",
       " 'dark',\n",
       " 'disco',\n",
       " 'electro',\n",
       " 'favoritetrackrightnow',\n",
       " 'fuckinghorrible',\n",
       " 'maxmartin',\n",
       " 'r&b']"
      ]
     },
     "execution_count": 33,
     "metadata": {},
     "output_type": "execute_result"
    }
   ],
   "source": [
    "#Let's see which tags is useless for predicting popularity in ridge regression\n",
    "[key for key, value in ridge_coefs.items() if value == 0]"
   ]
  },
  {
   "cell_type": "markdown",
   "metadata": {},
   "source": [
    "I find there are 8 variable is not useful for ridge regression"
   ]
  },
  {
   "cell_type": "markdown",
   "metadata": {},
   "source": [
    "#### Lasso Regression"
   ]
  },
  {
   "cell_type": "code",
   "execution_count": 34,
   "metadata": {},
   "outputs": [
    {
     "name": "stderr",
     "output_type": "stream",
     "text": [
      "/Users/zoe/anaconda3/lib/python3.7/site-packages/sklearn/linear_model/_coordinate_descent.py:476: ConvergenceWarning: Objective did not converge. You might want to increase the number of iterations. Duality gap: 0.00024231054043365521, tolerance: 0.00010574154916679817\n",
      "  positive)\n",
      "/Users/zoe/anaconda3/lib/python3.7/site-packages/sklearn/linear_model/_coordinate_descent.py:476: ConvergenceWarning: Objective did not converge. You might want to increase the number of iterations. Duality gap: 0.0007882682467612798, tolerance: 0.00010574154916679817\n",
      "  positive)\n",
      "/Users/zoe/anaconda3/lib/python3.7/site-packages/sklearn/linear_model/_coordinate_descent.py:476: ConvergenceWarning: Objective did not converge. You might want to increase the number of iterations. Duality gap: 0.001355352302692358, tolerance: 0.00010574154916679817\n",
      "  positive)\n",
      "/Users/zoe/anaconda3/lib/python3.7/site-packages/sklearn/linear_model/_coordinate_descent.py:476: ConvergenceWarning: Objective did not converge. You might want to increase the number of iterations. Duality gap: 0.000519580592838258, tolerance: 0.00010574154916679817\n",
      "  positive)\n",
      "/Users/zoe/anaconda3/lib/python3.7/site-packages/sklearn/linear_model/_coordinate_descent.py:476: ConvergenceWarning: Objective did not converge. You might want to increase the number of iterations. Duality gap: 0.0013522758877972784, tolerance: 0.00010574154916679817\n",
      "  positive)\n",
      "/Users/zoe/anaconda3/lib/python3.7/site-packages/sklearn/linear_model/_coordinate_descent.py:476: ConvergenceWarning: Objective did not converge. You might want to increase the number of iterations. Duality gap: 0.0020361994634725492, tolerance: 0.00010574154916679817\n",
      "  positive)\n",
      "/Users/zoe/anaconda3/lib/python3.7/site-packages/sklearn/linear_model/_coordinate_descent.py:476: ConvergenceWarning: Objective did not converge. You might want to increase the number of iterations. Duality gap: 0.0026345343585479353, tolerance: 0.00010574154916679817\n",
      "  positive)\n",
      "/Users/zoe/anaconda3/lib/python3.7/site-packages/sklearn/linear_model/_coordinate_descent.py:476: ConvergenceWarning: Objective did not converge. You might want to increase the number of iterations. Duality gap: 0.003105599524583502, tolerance: 0.00010574154916679817\n",
      "  positive)\n",
      "/Users/zoe/anaconda3/lib/python3.7/site-packages/sklearn/linear_model/_coordinate_descent.py:476: ConvergenceWarning: Objective did not converge. You might want to increase the number of iterations. Duality gap: 0.002825802047132465, tolerance: 0.00010574154916679817\n",
      "  positive)\n",
      "/Users/zoe/anaconda3/lib/python3.7/site-packages/sklearn/linear_model/_coordinate_descent.py:476: ConvergenceWarning: Objective did not converge. You might want to increase the number of iterations. Duality gap: 0.0032083159446781072, tolerance: 0.00010574154916679817\n",
      "  positive)\n",
      "/Users/zoe/anaconda3/lib/python3.7/site-packages/sklearn/linear_model/_coordinate_descent.py:476: ConvergenceWarning: Objective did not converge. You might want to increase the number of iterations. Duality gap: 0.003484090392680233, tolerance: 0.00010574154916679817\n",
      "  positive)\n",
      "/Users/zoe/anaconda3/lib/python3.7/site-packages/sklearn/linear_model/_coordinate_descent.py:476: ConvergenceWarning: Objective did not converge. You might want to increase the number of iterations. Duality gap: 0.0038123247257236957, tolerance: 0.00010574154916679817\n",
      "  positive)\n",
      "/Users/zoe/anaconda3/lib/python3.7/site-packages/sklearn/linear_model/_coordinate_descent.py:476: ConvergenceWarning: Objective did not converge. You might want to increase the number of iterations. Duality gap: 0.0039182206246578, tolerance: 0.00010574154916679817\n",
      "  positive)\n",
      "/Users/zoe/anaconda3/lib/python3.7/site-packages/sklearn/linear_model/_coordinate_descent.py:476: ConvergenceWarning: Objective did not converge. You might want to increase the number of iterations. Duality gap: 0.003965945187514199, tolerance: 0.00010574154916679817\n",
      "  positive)\n",
      "/Users/zoe/anaconda3/lib/python3.7/site-packages/sklearn/linear_model/_coordinate_descent.py:476: ConvergenceWarning: Objective did not converge. You might want to increase the number of iterations. Duality gap: 0.003963775068131055, tolerance: 0.00010574154916679817\n",
      "  positive)\n",
      "/Users/zoe/anaconda3/lib/python3.7/site-packages/sklearn/linear_model/_coordinate_descent.py:476: ConvergenceWarning: Objective did not converge. You might want to increase the number of iterations. Duality gap: 0.003933317091516951, tolerance: 0.00010574154916679817\n",
      "  positive)\n",
      "/Users/zoe/anaconda3/lib/python3.7/site-packages/sklearn/linear_model/_coordinate_descent.py:476: ConvergenceWarning: Objective did not converge. You might want to increase the number of iterations. Duality gap: 0.0038736983920362403, tolerance: 0.00010574154916679817\n",
      "  positive)\n",
      "/Users/zoe/anaconda3/lib/python3.7/site-packages/sklearn/linear_model/_coordinate_descent.py:476: ConvergenceWarning: Objective did not converge. You might want to increase the number of iterations. Duality gap: 0.0037913637868536593, tolerance: 0.00010574154916679817\n",
      "  positive)\n",
      "/Users/zoe/anaconda3/lib/python3.7/site-packages/sklearn/linear_model/_coordinate_descent.py:476: ConvergenceWarning: Objective did not converge. You might want to increase the number of iterations. Duality gap: 0.0036450417610313884, tolerance: 0.00010574154916679817\n",
      "  positive)\n",
      "/Users/zoe/anaconda3/lib/python3.7/site-packages/sklearn/linear_model/_coordinate_descent.py:476: ConvergenceWarning: Objective did not converge. You might want to increase the number of iterations. Duality gap: 0.0035471452932107905, tolerance: 0.00010574154916679817\n",
      "  positive)\n",
      "/Users/zoe/anaconda3/lib/python3.7/site-packages/sklearn/linear_model/_coordinate_descent.py:476: ConvergenceWarning: Objective did not converge. You might want to increase the number of iterations. Duality gap: 0.0033611263748511027, tolerance: 0.00010574154916679817\n",
      "  positive)\n",
      "/Users/zoe/anaconda3/lib/python3.7/site-packages/sklearn/linear_model/_coordinate_descent.py:476: ConvergenceWarning: Objective did not converge. You might want to increase the number of iterations. Duality gap: 0.0032578125805230412, tolerance: 0.00010574154916679817\n",
      "  positive)\n",
      "/Users/zoe/anaconda3/lib/python3.7/site-packages/sklearn/linear_model/_coordinate_descent.py:476: ConvergenceWarning: Objective did not converge. You might want to increase the number of iterations. Duality gap: 0.003145157154962914, tolerance: 0.00010574154916679817\n",
      "  positive)\n",
      "/Users/zoe/anaconda3/lib/python3.7/site-packages/sklearn/linear_model/_coordinate_descent.py:476: ConvergenceWarning: Objective did not converge. You might want to increase the number of iterations. Duality gap: 0.003026040627796175, tolerance: 0.00010574154916679817\n",
      "  positive)\n",
      "/Users/zoe/anaconda3/lib/python3.7/site-packages/sklearn/linear_model/_coordinate_descent.py:476: ConvergenceWarning: Objective did not converge. You might want to increase the number of iterations. Duality gap: 0.0029028343664529157, tolerance: 0.00010574154916679817\n",
      "  positive)\n",
      "/Users/zoe/anaconda3/lib/python3.7/site-packages/sklearn/linear_model/_coordinate_descent.py:476: ConvergenceWarning: Objective did not converge. You might want to increase the number of iterations. Duality gap: 0.0027774809649280825, tolerance: 0.00010574154916679817\n",
      "  positive)\n",
      "/Users/zoe/anaconda3/lib/python3.7/site-packages/sklearn/linear_model/_coordinate_descent.py:476: ConvergenceWarning: Objective did not converge. You might want to increase the number of iterations. Duality gap: 0.002651561269996873, tolerance: 0.00010574154916679817\n",
      "  positive)\n",
      "/Users/zoe/anaconda3/lib/python3.7/site-packages/sklearn/linear_model/_coordinate_descent.py:476: ConvergenceWarning: Objective did not converge. You might want to increase the number of iterations. Duality gap: 0.0025263508344405636, tolerance: 0.00010574154916679817\n",
      "  positive)\n",
      "/Users/zoe/anaconda3/lib/python3.7/site-packages/sklearn/linear_model/_coordinate_descent.py:476: ConvergenceWarning: Objective did not converge. You might want to increase the number of iterations. Duality gap: 0.0024028677911077435, tolerance: 0.00010574154916679817\n",
      "  positive)\n",
      "/Users/zoe/anaconda3/lib/python3.7/site-packages/sklearn/linear_model/_coordinate_descent.py:476: ConvergenceWarning: Objective did not converge. You might want to increase the number of iterations. Duality gap: 0.002281913625363085, tolerance: 0.00010574154916679817\n",
      "  positive)\n",
      "/Users/zoe/anaconda3/lib/python3.7/site-packages/sklearn/linear_model/_coordinate_descent.py:476: ConvergenceWarning: Objective did not converge. You might want to increase the number of iterations. Duality gap: 0.0021641079802388287, tolerance: 0.00010574154916679817\n",
      "  positive)\n",
      "/Users/zoe/anaconda3/lib/python3.7/site-packages/sklearn/linear_model/_coordinate_descent.py:476: ConvergenceWarning: Objective did not converge. You might want to increase the number of iterations. Duality gap: 0.0020499183935115723, tolerance: 0.00010574154916679817\n",
      "  positive)\n",
      "/Users/zoe/anaconda3/lib/python3.7/site-packages/sklearn/linear_model/_coordinate_descent.py:476: ConvergenceWarning: Objective did not converge. You might want to increase the number of iterations. Duality gap: 0.0019396856994257227, tolerance: 0.00010574154916679817\n",
      "  positive)\n",
      "/Users/zoe/anaconda3/lib/python3.7/site-packages/sklearn/linear_model/_coordinate_descent.py:476: ConvergenceWarning: Objective did not converge. You might want to increase the number of iterations. Duality gap: 0.001833645705033933, tolerance: 0.00010574154916679817\n",
      "  positive)\n",
      "/Users/zoe/anaconda3/lib/python3.7/site-packages/sklearn/linear_model/_coordinate_descent.py:476: ConvergenceWarning: Objective did not converge. You might want to increase the number of iterations. Duality gap: 0.0017319476574914534, tolerance: 0.00010574154916679817\n",
      "  positive)\n",
      "/Users/zoe/anaconda3/lib/python3.7/site-packages/sklearn/linear_model/_coordinate_descent.py:476: ConvergenceWarning: Objective did not converge. You might want to increase the number of iterations. Duality gap: 0.0016346699442585408, tolerance: 0.00010574154916679817\n",
      "  positive)\n",
      "/Users/zoe/anaconda3/lib/python3.7/site-packages/sklearn/linear_model/_coordinate_descent.py:476: ConvergenceWarning: Objective did not converge. You might want to increase the number of iterations. Duality gap: 0.0015418334075526284, tolerance: 0.00010574154916679817\n",
      "  positive)\n",
      "/Users/zoe/anaconda3/lib/python3.7/site-packages/sklearn/linear_model/_coordinate_descent.py:476: ConvergenceWarning: Objective did not converge. You might want to increase the number of iterations. Duality gap: 0.0014534126034995982, tolerance: 0.00010574154916679817\n",
      "  positive)\n",
      "/Users/zoe/anaconda3/lib/python3.7/site-packages/sklearn/linear_model/_coordinate_descent.py:476: ConvergenceWarning: Objective did not converge. You might want to increase the number of iterations. Duality gap: 0.0013693452931925042, tolerance: 0.00010574154916679817\n",
      "  positive)\n",
      "/Users/zoe/anaconda3/lib/python3.7/site-packages/sklearn/linear_model/_coordinate_descent.py:476: ConvergenceWarning: Objective did not converge. You might want to increase the number of iterations. Duality gap: 0.0012895404152971097, tolerance: 0.00010574154916679817\n",
      "  positive)\n",
      "/Users/zoe/anaconda3/lib/python3.7/site-packages/sklearn/linear_model/_coordinate_descent.py:476: ConvergenceWarning: Objective did not converge. You might want to increase the number of iterations. Duality gap: 0.0012138847573828645, tolerance: 0.00010574154916679817\n",
      "  positive)\n",
      "/Users/zoe/anaconda3/lib/python3.7/site-packages/sklearn/linear_model/_coordinate_descent.py:476: ConvergenceWarning: Objective did not converge. You might want to increase the number of iterations. Duality gap: 0.001142248514485666, tolerance: 0.00010574154916679817\n",
      "  positive)\n",
      "/Users/zoe/anaconda3/lib/python3.7/site-packages/sklearn/linear_model/_coordinate_descent.py:476: ConvergenceWarning: Objective did not converge. You might want to increase the number of iterations. Duality gap: 0.0010744898984686268, tolerance: 0.00010574154916679817\n",
      "  positive)\n",
      "/Users/zoe/anaconda3/lib/python3.7/site-packages/sklearn/linear_model/_coordinate_descent.py:476: ConvergenceWarning: Objective did not converge. You might want to increase the number of iterations. Duality gap: 0.0010104589397138715, tolerance: 0.00010574154916679817\n",
      "  positive)\n",
      "/Users/zoe/anaconda3/lib/python3.7/site-packages/sklearn/linear_model/_coordinate_descent.py:476: ConvergenceWarning: Objective did not converge. You might want to increase the number of iterations. Duality gap: 0.0009500006034732432, tolerance: 0.00010574154916679817\n",
      "  positive)\n",
      "/Users/zoe/anaconda3/lib/python3.7/site-packages/sklearn/linear_model/_coordinate_descent.py:476: ConvergenceWarning: Objective did not converge. You might want to increase the number of iterations. Duality gap: 0.0008929573262406342, tolerance: 0.00010574154916679817\n",
      "  positive)\n",
      "/Users/zoe/anaconda3/lib/python3.7/site-packages/sklearn/linear_model/_coordinate_descent.py:476: ConvergenceWarning: Objective did not converge. You might want to increase the number of iterations. Duality gap: 0.0008391710628276264, tolerance: 0.00010574154916679817\n",
      "  positive)\n",
      "/Users/zoe/anaconda3/lib/python3.7/site-packages/sklearn/linear_model/_coordinate_descent.py:476: ConvergenceWarning: Objective did not converge. You might want to increase the number of iterations. Duality gap: 0.0007884849219072718, tolerance: 0.00010574154916679817\n",
      "  positive)\n",
      "/Users/zoe/anaconda3/lib/python3.7/site-packages/sklearn/linear_model/_coordinate_descent.py:476: ConvergenceWarning: Objective did not converge. You might want to increase the number of iterations. Duality gap: 0.0007407444566111025, tolerance: 0.00010574154916679817\n",
      "  positive)\n",
      "/Users/zoe/anaconda3/lib/python3.7/site-packages/sklearn/linear_model/_coordinate_descent.py:476: ConvergenceWarning: Objective did not converge. You might want to increase the number of iterations. Duality gap: 0.0006957986670493717, tolerance: 0.00010574154916679817\n",
      "  positive)\n",
      "/Users/zoe/anaconda3/lib/python3.7/site-packages/sklearn/linear_model/_coordinate_descent.py:476: ConvergenceWarning: Objective did not converge. You might want to increase the number of iterations. Duality gap: 0.0006535007631467616, tolerance: 0.00010574154916679817\n",
      "  positive)\n",
      "/Users/zoe/anaconda3/lib/python3.7/site-packages/sklearn/linear_model/_coordinate_descent.py:476: ConvergenceWarning: Objective did not converge. You might want to increase the number of iterations. Duality gap: 0.000613708729011453, tolerance: 0.00010574154916679817\n",
      "  positive)\n",
      "/Users/zoe/anaconda3/lib/python3.7/site-packages/sklearn/linear_model/_coordinate_descent.py:476: ConvergenceWarning: Objective did not converge. You might want to increase the number of iterations. Duality gap: 0.0005762857236932045, tolerance: 0.00010574154916679817\n",
      "  positive)\n",
      "/Users/zoe/anaconda3/lib/python3.7/site-packages/sklearn/linear_model/_coordinate_descent.py:476: ConvergenceWarning: Objective did not converge. You might want to increase the number of iterations. Duality gap: 0.0005411003478540905, tolerance: 0.00010574154916679817\n",
      "  positive)\n",
      "/Users/zoe/anaconda3/lib/python3.7/site-packages/sklearn/linear_model/_coordinate_descent.py:476: ConvergenceWarning: Objective did not converge. You might want to increase the number of iterations. Duality gap: 0.0005080268012244648, tolerance: 0.00010574154916679817\n",
      "  positive)\n",
      "/Users/zoe/anaconda3/lib/python3.7/site-packages/sklearn/linear_model/_coordinate_descent.py:476: ConvergenceWarning: Objective did not converge. You might want to increase the number of iterations. Duality gap: 0.00047694495178675686, tolerance: 0.00010574154916679817\n",
      "  positive)\n",
      "/Users/zoe/anaconda3/lib/python3.7/site-packages/sklearn/linear_model/_coordinate_descent.py:476: ConvergenceWarning: Objective did not converge. You might want to increase the number of iterations. Duality gap: 0.000447740334228115, tolerance: 0.00010574154916679817\n",
      "  positive)\n",
      "/Users/zoe/anaconda3/lib/python3.7/site-packages/sklearn/linear_model/_coordinate_descent.py:476: ConvergenceWarning: Objective did not converge. You might want to increase the number of iterations. Duality gap: 0.00042030409233724444, tolerance: 0.00010574154916679817\n",
      "  positive)\n",
      "/Users/zoe/anaconda3/lib/python3.7/site-packages/sklearn/linear_model/_coordinate_descent.py:476: ConvergenceWarning: Objective did not converge. You might want to increase the number of iterations. Duality gap: 0.00039453287755812324, tolerance: 0.00010574154916679817\n",
      "  positive)\n",
      "/Users/zoe/anaconda3/lib/python3.7/site-packages/sklearn/linear_model/_coordinate_descent.py:476: ConvergenceWarning: Objective did not converge. You might want to increase the number of iterations. Duality gap: 0.00037032871390496055, tolerance: 0.00010574154916679817\n",
      "  positive)\n",
      "/Users/zoe/anaconda3/lib/python3.7/site-packages/sklearn/linear_model/_coordinate_descent.py:476: ConvergenceWarning: Objective did not converge. You might want to increase the number of iterations. Duality gap: 0.0003475988375323044, tolerance: 0.00010574154916679817\n",
      "  positive)\n",
      "/Users/zoe/anaconda3/lib/python3.7/site-packages/sklearn/linear_model/_coordinate_descent.py:476: ConvergenceWarning: Objective did not converge. You might want to increase the number of iterations. Duality gap: 0.00032625551799113416, tolerance: 0.00010574154916679817\n",
      "  positive)\n",
      "/Users/zoe/anaconda3/lib/python3.7/site-packages/sklearn/linear_model/_coordinate_descent.py:476: ConvergenceWarning: Objective did not converge. You might want to increase the number of iterations. Duality gap: 0.00030621586672142063, tolerance: 0.00010574154916679817\n",
      "  positive)\n",
      "/Users/zoe/anaconda3/lib/python3.7/site-packages/sklearn/linear_model/_coordinate_descent.py:476: ConvergenceWarning: Objective did not converge. You might want to increase the number of iterations. Duality gap: 0.0002874016374698508, tolerance: 0.00010574154916679817\n",
      "  positive)\n",
      "/Users/zoe/anaconda3/lib/python3.7/site-packages/sklearn/linear_model/_coordinate_descent.py:476: ConvergenceWarning: Objective did not converge. You might want to increase the number of iterations. Duality gap: 0.0002697390223276496, tolerance: 0.00010574154916679817\n",
      "  positive)\n",
      "/Users/zoe/anaconda3/lib/python3.7/site-packages/sklearn/linear_model/_coordinate_descent.py:476: ConvergenceWarning: Objective did not converge. You might want to increase the number of iterations. Duality gap: 0.0002531584463595486, tolerance: 0.00010574154916679817\n",
      "  positive)\n",
      "/Users/zoe/anaconda3/lib/python3.7/site-packages/sklearn/linear_model/_coordinate_descent.py:476: ConvergenceWarning: Objective did not converge. You might want to increase the number of iterations. Duality gap: 0.00023759436325776663, tolerance: 0.00010574154916679817\n",
      "  positive)\n",
      "/Users/zoe/anaconda3/lib/python3.7/site-packages/sklearn/linear_model/_coordinate_descent.py:476: ConvergenceWarning: Objective did not converge. You might want to increase the number of iterations. Duality gap: 0.0002229850538332547, tolerance: 0.00010574154916679817\n",
      "  positive)\n"
     ]
    },
    {
     "name": "stderr",
     "output_type": "stream",
     "text": [
      "/Users/zoe/anaconda3/lib/python3.7/site-packages/sklearn/linear_model/_coordinate_descent.py:476: ConvergenceWarning: Objective did not converge. You might want to increase the number of iterations. Duality gap: 0.0002092724288071304, tolerance: 0.00010574154916679817\n",
      "  positive)\n",
      "/Users/zoe/anaconda3/lib/python3.7/site-packages/sklearn/linear_model/_coordinate_descent.py:476: ConvergenceWarning: Objective did not converge. You might want to increase the number of iterations. Duality gap: 0.00019640183700598128, tolerance: 0.00010574154916679817\n",
      "  positive)\n",
      "/Users/zoe/anaconda3/lib/python3.7/site-packages/sklearn/linear_model/_coordinate_descent.py:476: ConvergenceWarning: Objective did not converge. You might want to increase the number of iterations. Duality gap: 0.00018432187974901443, tolerance: 0.00010574154916679817\n",
      "  positive)\n",
      "/Users/zoe/anaconda3/lib/python3.7/site-packages/sklearn/linear_model/_coordinate_descent.py:476: ConvergenceWarning: Objective did not converge. You might want to increase the number of iterations. Duality gap: 0.00017298423200402512, tolerance: 0.00010574154916679817\n",
      "  positive)\n",
      "/Users/zoe/anaconda3/lib/python3.7/site-packages/sklearn/linear_model/_coordinate_descent.py:476: ConvergenceWarning: Objective did not converge. You might want to increase the number of iterations. Duality gap: 0.0001623434707125011, tolerance: 0.00010574154916679817\n",
      "  positive)\n",
      "/Users/zoe/anaconda3/lib/python3.7/site-packages/sklearn/linear_model/_coordinate_descent.py:476: ConvergenceWarning: Objective did not converge. You might want to increase the number of iterations. Duality gap: 0.00015235691046193702, tolerance: 0.00010574154916679817\n",
      "  positive)\n",
      "/Users/zoe/anaconda3/lib/python3.7/site-packages/sklearn/linear_model/_coordinate_descent.py:476: ConvergenceWarning: Objective did not converge. You might want to increase the number of iterations. Duality gap: 0.0001429844466504053, tolerance: 0.00010574154916679817\n",
      "  positive)\n",
      "/Users/zoe/anaconda3/lib/python3.7/site-packages/sklearn/linear_model/_coordinate_descent.py:476: ConvergenceWarning: Objective did not converge. You might want to increase the number of iterations. Duality gap: 0.00013418840613194614, tolerance: 0.00010574154916679817\n",
      "  positive)\n",
      "/Users/zoe/anaconda3/lib/python3.7/site-packages/sklearn/linear_model/_coordinate_descent.py:476: ConvergenceWarning: Objective did not converge. You might want to increase the number of iterations. Duality gap: 0.00012593340525314083, tolerance: 0.00010574154916679817\n",
      "  positive)\n",
      "/Users/zoe/anaconda3/lib/python3.7/site-packages/sklearn/linear_model/_coordinate_descent.py:476: ConvergenceWarning: Objective did not converge. You might want to increase the number of iterations. Duality gap: 0.00011818621515981612, tolerance: 0.00010574154916679817\n",
      "  positive)\n",
      "/Users/zoe/anaconda3/lib/python3.7/site-packages/sklearn/linear_model/_coordinate_descent.py:476: ConvergenceWarning: Objective did not converge. You might want to increase the number of iterations. Duality gap: 0.00011091563418802389, tolerance: 0.00010574154916679817\n",
      "  positive)\n"
     ]
    },
    {
     "name": "stdout",
     "output_type": "stream",
     "text": [
      "LASSO coefficients:\n"
     ]
    }
   ],
   "source": [
    "lasso_cv = LassoCV(normalize=True, alphas=np.logspace(-10, 1, 400))\n",
    "lasso_model = lasso_cv.fit(X_train, y_train)\n",
    "lasso_prediction = lasso_model.predict(X_test)\n",
    "lasso_coefs = dict(\n",
    "    zip(['Intercept'] + X_train.columns.tolist()[:-1], \n",
    "        np.round(np.concatenate((lasso_model.intercept_, lasso_model.coef_), axis=None), 3))\n",
    ")\n",
    "\n",
    "print('LASSO coefficients:')\n",
    "#lasso_coefs #I comment this because of result is too long"
   ]
  },
  {
   "cell_type": "code",
   "execution_count": 35,
   "metadata": {},
   "outputs": [
    {
     "data": {
      "text/plain": [
       "['duration',\n",
       " '2014',\n",
       " '2015',\n",
       " '2017',\n",
       " 'acoustic',\n",
       " 'alternative',\n",
       " 'alternative rock',\n",
       " 'alternativerock',\n",
       " 'bestof2017',\n",
       " 'british',\n",
       " 'canadian',\n",
       " 'catchy',\n",
       " 'dance',\n",
       " 'dancehall',\n",
       " 'dark',\n",
       " 'disco',\n",
       " 'edsheeran',\n",
       " 'electro',\n",
       " 'electronic',\n",
       " 'electropop',\n",
       " 'favoritetrackrightnow',\n",
       " 'female vocalists',\n",
       " 'fuckinghorrible',\n",
       " 'funk',\n",
       " 'hatersgonnahate',\n",
       " 'hip-hop',\n",
       " 'i want drake to murder my vagina',\n",
       " 'indie',\n",
       " 'indiepop',\n",
       " 'justinbieber',\n",
       " 'katyperry',\n",
       " 'katyperrybirthday',\n",
       " 'love',\n",
       " 'love at first listen',\n",
       " 'lovesong',\n",
       " 'maxmartin',\n",
       " 'melancholy',\n",
       " 'pop rock',\n",
       " 'r&b',\n",
       " 'samsmith',\n",
       " 'soul',\n",
       " 'synthpop']"
      ]
     },
     "execution_count": 35,
     "metadata": {},
     "output_type": "execute_result"
    }
   ],
   "source": [
    "#See what features is not important for the popularity in lasso regression\n",
    "[key for key, value in lasso_coefs.items() if value == 0]"
   ]
  },
  {
   "cell_type": "code",
   "execution_count": 36,
   "metadata": {},
   "outputs": [
    {
     "data": {
      "text/plain": [
       "['Intercept',\n",
       " '2016',\n",
       " 'adele',\n",
       " 'bestof2014',\n",
       " 'chinese',\n",
       " 'coldplay',\n",
       " 'femalevocalists',\n",
       " 'folk',\n",
       " 'grunge',\n",
       " 'jaychou',\n",
       " 'lorde',\n",
       " 'loveatfirstlisten',\n",
       " 'nirvana',\n",
       " 'piano',\n",
       " 'pop',\n",
       " 'powerballad',\n",
       " 'rnb',\n",
       " 'rock']"
      ]
     },
     "execution_count": 36,
     "metadata": {},
     "output_type": "execute_result"
    }
   ],
   "source": [
    "#See what features is important for the popularity in lasso regression\n",
    "[key for key, value in lasso_coefs.items() if value != 0]"
   ]
  },
  {
   "cell_type": "markdown",
   "metadata": {},
   "source": [
    "At this time, we do find there are only 17 variables among total 62 varialbes seems is important for lasso regression"
   ]
  },
  {
   "cell_type": "markdown",
   "metadata": {},
   "source": [
    "#### PCA regression\n",
    "PCA is used by combine some varibales together"
   ]
  },
  {
   "cell_type": "code",
   "execution_count": 37,
   "metadata": {},
   "outputs": [
    {
     "name": "stdout",
     "output_type": "stream",
     "text": [
      "Principal Components Regression coefficients:\n"
     ]
    },
    {
     "data": {
      "text/plain": [
       "{'Intercept': 0.288,\n",
       " 'PCA_comp_1': 0.001,\n",
       " 'PCA_comp_2': 0.207,\n",
       " 'PCA_comp_3': -0.089,\n",
       " 'PCA_comp_4': -0.087,\n",
       " 'PCA_comp_5': 0.015,\n",
       " 'PCA_comp_6': 0.168,\n",
       " 'PCA_comp_7': 0.131,\n",
       " 'PCA_comp_8': 0.038}"
      ]
     },
     "execution_count": 37,
     "metadata": {},
     "output_type": "execute_result"
    }
   ],
   "source": [
    "regression_model = LinearRegression(normalize=True)\n",
    "pca_model = PCA()\n",
    "pipe = Pipeline(steps=[('pca', pca_model), ('least_squares', regression_model)])\n",
    "param_grid = {'pca__n_components': range(1, 9)}\n",
    "search = GridSearchCV(pipe, param_grid)\n",
    "pcareg_model = search.fit(X_train, y_train)\n",
    "pcareg_prediction = pcareg_model.predict(X_test)\n",
    "\n",
    "n_comp = list(pcareg_model.best_params_.values())[0]\n",
    "pcareg_coefs = dict(\n",
    "   zip(['Intercept'] + ['PCA_comp_' + str(x) for x in range(1, n_comp + 1)], \n",
    "       np.round(np.concatenate((pcareg_model.best_estimator_.steps[1][1].intercept_, \n",
    "                                pcareg_model.best_estimator_.steps[1][1].coef_), axis=None), 3))\n",
    ")\n",
    "\n",
    "print('Principal Components Regression coefficients:')\n",
    "pcareg_coefs"
   ]
  },
  {
   "cell_type": "markdown",
   "metadata": {},
   "source": [
    "#### Model Performance Comparison"
   ]
  },
  {
   "cell_type": "code",
   "execution_count": 38,
   "metadata": {
    "scrolled": true
   },
   "outputs": [
    {
     "name": "stdout",
     "output_type": "stream",
     "text": [
      "Linear Mean Absolute Error: 0.24284782508162867\n",
      "Linear Mean Squared Error: 0.07970642831212932\n",
      "Linear Root Mean Squared Error: 0.28232326916520595\n",
      "------------------------------------------------------------------------------------\n",
      "Ridge Mean Absolute Error: 0.18011125642561895\n",
      "Ridge Mean Squared Error: 0.05402822272798939\n",
      "Ridge Root Mean Squared Error: 0.23243971848199566\n",
      "------------------------------------------------------------------------------------\n",
      "Lasso Mean Absolute Error: 0.17623850417097411\n",
      "Lasso Mean Squared Error: 0.0594447432523163\n",
      "Lasso Root Mean Squared Error: 0.24381292675392807\n",
      "------------------------------------------------------------------------------------\n",
      "PCA Mean Absolute Error: 0.1428326117509367\n",
      "PCA Mean Squared Error: 0.03707946767516681\n",
      "PCA Root Mean Squared Error: 0.19256029620658255\n"
     ]
    }
   ],
   "source": [
    "print('Linear Mean Absolute Error:', metrics.mean_absolute_error(y_test, y_pred))  \n",
    "print('Linear Mean Squared Error:', metrics.mean_squared_error(y_test, y_pred))  \n",
    "print('Linear Root Mean Squared Error:', np.sqrt(metrics.mean_squared_error(y_test, y_pred)))\n",
    "\n",
    "print(\"------------------------------------------------------------------------------------\")\n",
    "\n",
    "print('Ridge Mean Absolute Error:', metrics.mean_absolute_error(y_test, ridge_prediction))  \n",
    "print('Ridge Mean Squared Error:', metrics.mean_squared_error(y_test, ridge_prediction))  \n",
    "print('Ridge Root Mean Squared Error:', np.sqrt(metrics.mean_squared_error(y_test, ridge_prediction)))\n",
    "\n",
    "print(\"------------------------------------------------------------------------------------\")\n",
    "\n",
    "print('Lasso Mean Absolute Error:', metrics.mean_absolute_error(y_test, lasso_prediction))  \n",
    "print('Lasso Mean Squared Error:', metrics.mean_squared_error(y_test, lasso_prediction))  \n",
    "print('Lasso Root Mean Squared Error:', np.sqrt(metrics.mean_squared_error(y_test, lasso_prediction)))\n",
    "print(\"------------------------------------------------------------------------------------\")\n",
    "\n",
    "print('PCA Mean Absolute Error:', metrics.mean_absolute_error(y_test, pcareg_prediction))  \n",
    "print('PCA Mean Squared Error:', metrics.mean_squared_error(y_test, pcareg_prediction))  \n",
    "print('PCA Root Mean Squared Error:', np.sqrt(metrics.mean_squared_error(y_test, pcareg_prediction)))\n",
    "\n"
   ]
  },
  {
   "cell_type": "markdown",
   "metadata": {},
   "source": [
    "From the result above, we found PCA regression is the best model from three lowest metric. the simple linear regression performance is the worst. And the lasso and ridge regression is at the middle, we can't say which one is better."
   ]
  },
  {
   "cell_type": "markdown",
   "metadata": {},
   "source": [
    "### How to predict a song's tags?\n",
    "Check the relationship between top-tags songs been given and this song's basic information (ex.bpm,duration,Acousticness,Energy,Danceability etc)"
   ]
  },
  {
   "cell_type": "code",
   "execution_count": 39,
   "metadata": {},
   "outputs": [],
   "source": [
    "#Pacakage used \n",
    "#Model\n",
    "from sklearn.tree import DecisionTreeClassifier\n",
    "from sklearn.neighbors import KNeighborsClassifier\n",
    "#Measure\n",
    "from sklearn.metrics import accuracy_score"
   ]
  },
  {
   "cell_type": "markdown",
   "metadata": {},
   "source": [
    "#### Decision Tree"
   ]
  },
  {
   "cell_type": "code",
   "execution_count": 40,
   "metadata": {
    "scrolled": false
   },
   "outputs": [],
   "source": [
    "df = pd.read_excel (r'dataset2.xlsx')\n",
    "#df"
   ]
  },
  {
   "cell_type": "code",
   "execution_count": 41,
   "metadata": {},
   "outputs": [
    {
     "name": "stderr",
     "output_type": "stream",
     "text": [
      "/Users/zoe/anaconda3/lib/python3.7/site-packages/ipykernel_launcher.py:6: SettingWithCopyWarning: \n",
      "A value is trying to be set on a copy of a slice from a DataFrame\n",
      "\n",
      "See the caveats in the documentation: https://pandas.pydata.org/pandas-docs/stable/user_guide/indexing.html#returning-a-view-versus-a-copy\n",
      "  \n"
     ]
    }
   ],
   "source": [
    "df =  df.dropna()\n",
    "#we don't want the genre to be too specific, we do see a lot of pop\n",
    "#let's convert all into pop\n",
    "for i in range(len(df)):\n",
    "    if df['top genre'][i][-3:] == 'pop':\n",
    "        df['top genre'][i] = 'pop'\n",
    "#df['top genre']"
   ]
  },
  {
   "cell_type": "code",
   "execution_count": 42,
   "metadata": {},
   "outputs": [
    {
     "data": {
      "text/plain": [
       "(50, 14)"
      ]
     },
     "execution_count": 42,
     "metadata": {},
     "output_type": "execute_result"
    }
   ],
   "source": [
    "df.shape"
   ]
  },
  {
   "cell_type": "code",
   "execution_count": 43,
   "metadata": {},
   "outputs": [],
   "source": [
    "train_data, test_data = train_test_split(df, test_size = 0.2, random_state=0)\n",
    "y_train = train_data['top genre']"
   ]
  },
  {
   "cell_type": "code",
   "execution_count": 44,
   "metadata": {},
   "outputs": [],
   "source": [
    "X_train = train_data.drop(columns = ['title','artist','top genre','year'])\n",
    "#For the response, since the scale is too large, which is not suitable for our dummy variable\n",
    "#We do want to normalize it.\n",
    "y_train = train_data['top genre']\n",
    "X_test = test_data.drop(columns = ['title','artist','top genre','year'])\n",
    "y_test = test_data['top genre']"
   ]
  },
  {
   "cell_type": "markdown",
   "metadata": {},
   "source": [
    "#### Decision Tree"
   ]
  },
  {
   "cell_type": "code",
   "execution_count": 45,
   "metadata": {},
   "outputs": [],
   "source": [
    "tree = DecisionTreeClassifier(random_state=3850)\n",
    "tree.fit(X_train, y_train)\n",
    "tree.pred = tree.predict(X_test)"
   ]
  },
  {
   "cell_type": "markdown",
   "metadata": {},
   "source": [
    "#### KNN"
   ]
  },
  {
   "cell_type": "code",
   "execution_count": 46,
   "metadata": {},
   "outputs": [],
   "source": [
    "knn = KNeighborsClassifier(n_neighbors = 4)\n",
    "knn.fit(X_train,y_train)\n",
    "knn.pred = knn.predict(X_test)"
   ]
  },
  {
   "cell_type": "markdown",
   "metadata": {},
   "source": [
    "#### Model Performance Comparison"
   ]
  },
  {
   "cell_type": "code",
   "execution_count": 47,
   "metadata": {},
   "outputs": [
    {
     "name": "stdout",
     "output_type": "stream",
     "text": [
      "Decision Tree accuracy score: 0.1\n",
      "KNN accuracy score: 0.4\n"
     ]
    }
   ],
   "source": [
    "print('Decision Tree accuracy score:', accuracy_score(y_test, tree.pred))  \n",
    "print('KNN accuracy score:', accuracy_score(y_test, knn.pred ))  "
   ]
  },
  {
   "cell_type": "markdown",
   "metadata": {},
   "source": [
    "We found KNN classify might be better than decision tree. Moreover, we can see other dataset's performance"
   ]
  },
  {
   "cell_type": "markdown",
   "metadata": {},
   "source": [
    "#### Import the dataset from my  listen history"
   ]
  },
  {
   "cell_type": "code",
   "execution_count": 48,
   "metadata": {},
   "outputs": [
    {
     "data": {
      "text/plain": [
       "321"
      ]
     },
     "execution_count": 48,
     "metadata": {},
     "output_type": "execute_result"
    }
   ],
   "source": [
    "my_df = pd.read_excel (r'my_data.xlsx')\n",
    "#my_df = my_df.dropna()\n",
    "len(my_df['top genre'])"
   ]
  },
  {
   "cell_type": "code",
   "execution_count": 49,
   "metadata": {},
   "outputs": [
    {
     "name": "stderr",
     "output_type": "stream",
     "text": [
      "/Users/zoe/anaconda3/lib/python3.7/site-packages/ipykernel_launcher.py:7: SettingWithCopyWarning: \n",
      "A value is trying to be set on a copy of a slice from a DataFrame\n",
      "\n",
      "See the caveats in the documentation: https://pandas.pydata.org/pandas-docs/stable/user_guide/indexing.html#returning-a-view-versus-a-copy\n",
      "  import sys\n"
     ]
    }
   ],
   "source": [
    "#Same idea with above\n",
    "my_df =  my_df.dropna()\n",
    "#we don't want the genre to be too specific, we do see a lot of pop\n",
    "#let's convert all into pop\n",
    "for i in range(len(my_df)):\n",
    "    if my_df['top genre'][i][-3:] == 'pop':\n",
    "        my_df['top genre'][i] = 'pop'\n"
   ]
  },
  {
   "cell_type": "code",
   "execution_count": 50,
   "metadata": {},
   "outputs": [],
   "source": [
    "train_data, test_data = train_test_split(my_df, test_size = 0.2, random_state=0)"
   ]
  },
  {
   "cell_type": "code",
   "execution_count": 51,
   "metadata": {},
   "outputs": [],
   "source": [
    "X_train = train_data.drop(columns = ['title','artist','top genre','year'])\n",
    "#For the response, since the scale is too large, which is not suitable for our dummy variable\n",
    "#We do want to normalize it.\n",
    "y_train = train_data['top genre']\n",
    "X_test = test_data.drop(columns = ['title','artist','top genre','year'])\n",
    "y_test = test_data['top genre']"
   ]
  },
  {
   "cell_type": "markdown",
   "metadata": {},
   "source": [
    "#### Decision Tree"
   ]
  },
  {
   "cell_type": "code",
   "execution_count": 52,
   "metadata": {},
   "outputs": [],
   "source": [
    "tree = DecisionTreeClassifier(random_state=3850)\n",
    "tree.fit(X_train, y_train)\n",
    "tree.pred = tree.predict(X_test)"
   ]
  },
  {
   "cell_type": "markdown",
   "metadata": {},
   "source": [
    "#### KNN"
   ]
  },
  {
   "cell_type": "code",
   "execution_count": 53,
   "metadata": {},
   "outputs": [],
   "source": [
    "knn = KNeighborsClassifier(n_neighbors = 4)\n",
    "knn.fit(X_train,y_train)\n",
    "knn.pred = knn.predict(X_test)"
   ]
  },
  {
   "cell_type": "markdown",
   "metadata": {},
   "source": [
    "#### Model Performance Comparison"
   ]
  },
  {
   "cell_type": "code",
   "execution_count": 54,
   "metadata": {},
   "outputs": [
    {
     "name": "stdout",
     "output_type": "stream",
     "text": [
      "Decision Tree accuracy score: 0.23076923076923078\n",
      "KNN accuracy score: 0.24615384615384617\n"
     ]
    }
   ],
   "source": [
    "print('Decision Tree accuracy score:', accuracy_score(y_test, tree.pred))  \n",
    "print('KNN accuracy score:', accuracy_score(y_test, knn.pred ))  "
   ]
  },
  {
   "cell_type": "markdown",
   "metadata": {},
   "source": [
    "From the result above, we found the KNN accuracy score is larger than Decision Tree. We can make the conclusion more confident that KNN method perform better than Decision Tree base on predict Music's tags by giving the information spotify provide."
   ]
  },
  {
   "cell_type": "markdown",
   "metadata": {},
   "source": [
    "### Recommend by using content-based method <font color='blue'>(for fun)</font> \n",
    "Luckily, we find that there is function for track named getSimilar.We can use this to recommend similar track to the track that user already loved."
   ]
  },
  {
   "cell_type": "code",
   "execution_count": 55,
   "metadata": {},
   "outputs": [],
   "source": [
    "#Build a funtion to get user's library\n",
    "def lookup_artists(user):\n",
    "    response = lastfm_get({\n",
    "    'method': 'library.getArtists',\n",
    "    'user' : user\n",
    "    })\n",
    "\n",
    "    if response.status_code != 200:\n",
    "        return None\n",
    "\n",
    "    artists = [t['name'] for t in response.json()['artists']['artist']]\n",
    "    mbid = [t['mbid'] for t in response.json()['artists']['artist']]\n",
    "    playcount = [t['playcount'] for t in response.json()['artists']['artist']]\n",
    "\n",
    "    # rate limiting\n",
    "    if not getattr(response, 'from_cache', False):\n",
    "        time.sleep(0.25)\n",
    "    return artists,mbid,playcount"
   ]
  },
  {
   "cell_type": "code",
   "execution_count": 56,
   "metadata": {},
   "outputs": [],
   "source": [
    "#I will use myself's user name to see the result\n",
    "artists = lookup_artists(\"rzhan97\")[0]\n",
    "mbid = lookup_artists(\"rzhan97\")[1]\n",
    "playcount = lookup_artists(\"rzhan97\")[2]\n",
    "user_artists = pd.DataFrame(zip(artists, mbid,playcount), \n",
    "                       columns =['Name', 'id','counts'])"
   ]
  },
  {
   "cell_type": "code",
   "execution_count": 57,
   "metadata": {},
   "outputs": [
    {
     "data": {
      "text/html": [
       "<div>\n",
       "<style scoped>\n",
       "    .dataframe tbody tr th:only-of-type {\n",
       "        vertical-align: middle;\n",
       "    }\n",
       "\n",
       "    .dataframe tbody tr th {\n",
       "        vertical-align: top;\n",
       "    }\n",
       "\n",
       "    .dataframe thead th {\n",
       "        text-align: right;\n",
       "    }\n",
       "</style>\n",
       "<table border=\"1\" class=\"dataframe\">\n",
       "  <thead>\n",
       "    <tr style=\"text-align: right;\">\n",
       "      <th></th>\n",
       "      <th>Name</th>\n",
       "      <th>id</th>\n",
       "      <th>counts</th>\n",
       "    </tr>\n",
       "  </thead>\n",
       "  <tbody>\n",
       "    <tr>\n",
       "      <th>0</th>\n",
       "      <td>88Rising</td>\n",
       "      <td></td>\n",
       "      <td>34</td>\n",
       "    </tr>\n",
       "    <tr>\n",
       "      <th>1</th>\n",
       "      <td>Heize</td>\n",
       "      <td>8cea34d9-e1a5-4a92-87da-de947f741fe6</td>\n",
       "      <td>19</td>\n",
       "    </tr>\n",
       "    <tr>\n",
       "      <th>2</th>\n",
       "      <td>Rich Brian</td>\n",
       "      <td>49d67664-6962-4f69-adc4-f52208c78dd2</td>\n",
       "      <td>6</td>\n",
       "    </tr>\n",
       "    <tr>\n",
       "      <th>3</th>\n",
       "      <td>Andrew Applepie</td>\n",
       "      <td>e3d7cfab-477a-49e1-b001-45893ba268aa</td>\n",
       "      <td>2</td>\n",
       "    </tr>\n",
       "    <tr>\n",
       "      <th>4</th>\n",
       "      <td>Nirvana</td>\n",
       "      <td></td>\n",
       "      <td>2</td>\n",
       "    </tr>\n",
       "  </tbody>\n",
       "</table>\n",
       "</div>"
      ],
      "text/plain": [
       "              Name                                    id counts\n",
       "0         88Rising                                           34\n",
       "1            Heize  8cea34d9-e1a5-4a92-87da-de947f741fe6     19\n",
       "2       Rich Brian  49d67664-6962-4f69-adc4-f52208c78dd2      6\n",
       "3  Andrew Applepie  e3d7cfab-477a-49e1-b001-45893ba268aa      2\n",
       "4          Nirvana                                            2"
      ]
     },
     "execution_count": 57,
     "metadata": {},
     "output_type": "execute_result"
    }
   ],
   "source": [
    "#My listening history\n",
    "user_artists.head()"
   ]
  },
  {
   "cell_type": "code",
   "execution_count": 58,
   "metadata": {},
   "outputs": [],
   "source": [
    "#Build a funtion to get user's library\n",
    "def lookup_lovedsong(user):\n",
    "    response = lastfm_get({\n",
    "    'method': 'user.getLovedTracks',\n",
    "    'user' : user\n",
    "    })\n",
    "\n",
    "    if response.status_code != 200:\n",
    "        return None\n",
    "\n",
    "    song = [t['name'] for t in response.json()['lovedtracks']['track']]\n",
    "    date = [t['date'] for t in response.json()['lovedtracks']['track']]\n",
    "    artist = [t['artist']['name'] for t in response.json()['lovedtracks']['track']]\n",
    "\n",
    "\n",
    "    # rate limiting\n",
    "    if not getattr(response, 'from_cache', False):\n",
    "        time.sleep(0.25)\n",
    "    return song,date,artist"
   ]
  },
  {
   "cell_type": "code",
   "execution_count": 59,
   "metadata": {},
   "outputs": [],
   "source": [
    "data = lookup_lovedsong(\"rzhan97\")\n",
    "song = data[0]\n",
    "date = data[1]\n",
    "artist = data[2]\n",
    "#we do want to convert this data\n",
    "for i in range(len(date)):\n",
    "        date[i] = date[i]['#text']\n",
    "usersong_df = pd.DataFrame(zip(song,artist,date), columns =['song','artist','date'])"
   ]
  },
  {
   "cell_type": "code",
   "execution_count": 60,
   "metadata": {},
   "outputs": [
    {
     "data": {
      "text/html": [
       "<div>\n",
       "<style scoped>\n",
       "    .dataframe tbody tr th:only-of-type {\n",
       "        vertical-align: middle;\n",
       "    }\n",
       "\n",
       "    .dataframe tbody tr th {\n",
       "        vertical-align: top;\n",
       "    }\n",
       "\n",
       "    .dataframe thead th {\n",
       "        text-align: right;\n",
       "    }\n",
       "</style>\n",
       "<table border=\"1\" class=\"dataframe\">\n",
       "  <thead>\n",
       "    <tr style=\"text-align: right;\">\n",
       "      <th></th>\n",
       "      <th>song</th>\n",
       "      <th>artist</th>\n",
       "      <th>date</th>\n",
       "    </tr>\n",
       "  </thead>\n",
       "  <tbody>\n",
       "    <tr>\n",
       "      <th>0</th>\n",
       "      <td>Drive Safe</td>\n",
       "      <td>Rich Brian</td>\n",
       "      <td>13 Apr 2020, 00:43</td>\n",
       "    </tr>\n",
       "    <tr>\n",
       "      <th>1</th>\n",
       "      <td>Let It Go</td>\n",
       "      <td>88Rising</td>\n",
       "      <td>12 Apr 2020, 20:31</td>\n",
       "    </tr>\n",
       "    <tr>\n",
       "      <th>2</th>\n",
       "      <td>Peach Jam</td>\n",
       "      <td>88Rising</td>\n",
       "      <td>12 Apr 2020, 03:42</td>\n",
       "    </tr>\n",
       "    <tr>\n",
       "      <th>3</th>\n",
       "      <td>Midsummer Madness</td>\n",
       "      <td>88Rising</td>\n",
       "      <td>12 Apr 2020, 00:34</td>\n",
       "    </tr>\n",
       "  </tbody>\n",
       "</table>\n",
       "</div>"
      ],
      "text/plain": [
       "                song      artist                date\n",
       "0         Drive Safe  Rich Brian  13 Apr 2020, 00:43\n",
       "1          Let It Go    88Rising  12 Apr 2020, 20:31\n",
       "2          Peach Jam    88Rising  12 Apr 2020, 03:42\n",
       "3  Midsummer Madness    88Rising  12 Apr 2020, 00:34"
      ]
     },
     "execution_count": 60,
     "metadata": {},
     "output_type": "execute_result"
    }
   ],
   "source": [
    "usersong_df.head()"
   ]
  },
  {
   "cell_type": "code",
   "execution_count": 61,
   "metadata": {},
   "outputs": [],
   "source": [
    "#Build a funtion to find a similar song and I will predict by using my recent loved song\n",
    "def lookup_similarsong(user):\n",
    "    response = lastfm_get({\n",
    "    'method': 'track.getSimilar',\n",
    "    'track' : 'Drive Safe',\n",
    "    'artist': 'Rich Brian'\n",
    "    })\n",
    "\n",
    "    if response.status_code != 200:\n",
    "        return None\n",
    "\n",
    "    song = [t['name'] for t in response.json()['similartracks']['track']]\n",
    "    matchscore = [t['match'] for t in response.json()['similartracks']['track']]\n",
    "    artist = [t['artist']['name'] for t in response.json()['similartracks']['track']]\n",
    "\n",
    "\n",
    "    # rate limiting\n",
    "    if not getattr(response, 'from_cache', False):\n",
    "        time.sleep(0.25)\n",
    "    return song,artist,matchscore"
   ]
  },
  {
   "cell_type": "code",
   "execution_count": 62,
   "metadata": {},
   "outputs": [],
   "source": [
    "data = lookup_similarsong(\"rzhan97\")\n",
    "song = data[0]\n",
    "artist = data[1]\n",
    "mathchscore = data[2]\n",
    "\n",
    "similarsong_df = pd.DataFrame(zip(song,artist,mathchscore), columns =['song','artist','mathch_score'])\n"
   ]
  },
  {
   "cell_type": "code",
   "execution_count": 63,
   "metadata": {},
   "outputs": [
    {
     "data": {
      "text/html": [
       "<div>\n",
       "<style scoped>\n",
       "    .dataframe tbody tr th:only-of-type {\n",
       "        vertical-align: middle;\n",
       "    }\n",
       "\n",
       "    .dataframe tbody tr th {\n",
       "        vertical-align: top;\n",
       "    }\n",
       "\n",
       "    .dataframe thead th {\n",
       "        text-align: right;\n",
       "    }\n",
       "</style>\n",
       "<table border=\"1\" class=\"dataframe\">\n",
       "  <thead>\n",
       "    <tr style=\"text-align: right;\">\n",
       "      <th></th>\n",
       "      <th>song</th>\n",
       "      <th>artist</th>\n",
       "      <th>mathch_score</th>\n",
       "    </tr>\n",
       "  </thead>\n",
       "  <tbody>\n",
       "    <tr>\n",
       "      <th>0</th>\n",
       "      <td>Curious</td>\n",
       "      <td>Rich Brian</td>\n",
       "      <td>1.000000</td>\n",
       "    </tr>\n",
       "    <tr>\n",
       "      <th>1</th>\n",
       "      <td>100 Degrees</td>\n",
       "      <td>Rich Brian</td>\n",
       "      <td>0.899063</td>\n",
       "    </tr>\n",
       "    <tr>\n",
       "      <th>2</th>\n",
       "      <td>SUGAR</td>\n",
       "      <td>BROCKHAMPTON</td>\n",
       "      <td>0.260246</td>\n",
       "    </tr>\n",
       "    <tr>\n",
       "      <th>3</th>\n",
       "      <td>Peach</td>\n",
       "      <td>Kevin Abstract</td>\n",
       "      <td>0.216900</td>\n",
       "    </tr>\n",
       "    <tr>\n",
       "      <th>4</th>\n",
       "      <td>BOY BYE</td>\n",
       "      <td>BROCKHAMPTON</td>\n",
       "      <td>0.213516</td>\n",
       "    </tr>\n",
       "  </tbody>\n",
       "</table>\n",
       "</div>"
      ],
      "text/plain": [
       "          song          artist  mathch_score\n",
       "0      Curious      Rich Brian      1.000000\n",
       "1  100 Degrees      Rich Brian      0.899063\n",
       "2        SUGAR    BROCKHAMPTON      0.260246\n",
       "3        Peach  Kevin Abstract      0.216900\n",
       "4      BOY BYE    BROCKHAMPTON      0.213516"
      ]
     },
     "execution_count": 63,
     "metadata": {},
     "output_type": "execute_result"
    }
   ],
   "source": [
    "similarsong_df.head()"
   ]
  },
  {
   "cell_type": "markdown",
   "metadata": {},
   "source": [
    "From above, I can try the song there from top to bottom. This is a content-base recommender that you are be recommended by the similar song.\n",
    "However,due the time constraint,I can trying to learn more about collaborative filtering and deep learning method to make those recommendation better."
   ]
  },
  {
   "cell_type": "markdown",
   "metadata": {},
   "source": [
    "### Load those data to python's in-built SQL module ‘sqlite3’ <font color='blue'>(for fun)</font> "
   ]
  },
  {
   "cell_type": "code",
   "execution_count": 64,
   "metadata": {},
   "outputs": [
    {
     "name": "stdout",
     "output_type": "stream",
     "text": [
      "<sqlite3.Connection object at 0x1a19dd8b90>\n",
      "Table dropped\n",
      "Table created successfully\n"
     ]
    }
   ],
   "source": [
    "#I'm interested in to how to load those into SQL module to finish this ETL process.\n",
    "import sqlite3 \n",
    "\n",
    "# connect function opens a connection to the SQLite database file, \n",
    "conn = sqlite3.connect('session.db')\n",
    "print(conn)\n",
    "# Output: <sqlite3.Connection object at 0x0000015A87671730>\n",
    "\n",
    "# Drop a table name Crypto if it exists already\n",
    "try:\n",
    "    conn.execute('DROP TABLE IF EXISTS `recommed` ')\n",
    "except Exception as e:\n",
    "    raise(e)\n",
    "finally:\n",
    "    print('Table dropped')\n",
    "\n",
    "    \n",
    "# Create a new Table named as Crypto\n",
    "try:\n",
    "    conn.execute('''\n",
    "         CREATE TABLE recommed\n",
    "         (song         TEXT PRIMARY KEY,\n",
    "         artist        TEXT NOT NULL,\n",
    "         match_score   FLOAT DEFAULT 0);''')\n",
    "\n",
    "    print (\"Table created successfully\");\n",
    "except Exception as e:\n",
    "    print(str(e))\n",
    "    print('Table Creation Failed!!!!!')\n",
    "finally:\n",
    "    conn.close() # this closes the database connection"
   ]
  },
  {
   "cell_type": "code",
   "execution_count": 65,
   "metadata": {},
   "outputs": [
    {
     "name": "stdout",
     "output_type": "stream",
     "text": [
      "Data Inserted Successfully\n"
     ]
    }
   ],
   "source": [
    "# this will convert pandas dtaframe to list of list\n",
    "song_list = similarsong_df.values.tolist()\n",
    "\n",
    "# lets make new connection to Insert crypto data in SQL DB\n",
    "conn = sqlite3.connect('session.db')\n",
    "\n",
    "# make a cursor - it will help with querying SQL DB\n",
    "cur = conn.cursor()\n",
    "\n",
    "try:\n",
    "    # will use ? sign to represent each column names inside VALUE().\n",
    "    cur.executemany(\"INSERT INTO recommed(song,artist,match_score) VALUES (?,?,?)\", song_list)\n",
    "    conn.commit()\n",
    "    print('Data Inserted Successfully')\n",
    "except Exception as e:\n",
    "    print(str(e))\n",
    "    print('Data Insertion Failed')\n",
    "finally:\n",
    "    # finally block will help with always closing the connection to DB even in case of error.\n",
    "    conn.close()"
   ]
  },
  {
   "cell_type": "markdown",
   "metadata": {},
   "source": [
    "## Conclusion"
   ]
  },
  {
   "cell_type": "markdown",
   "metadata": {},
   "source": [
    "#### State what you have learned from the project. You could state here the packages or methods you have learned.\n",
    "- The things I learned:\n",
    "    1. Extract data is fun\n",
    "    2. cleaning data is tired\n",
    "    3. package I learned all state above\n",
    "    4. Learned a simple ETL process\n",
    "    5. Learned how to play with LastFM API"
   ]
  },
  {
   "cell_type": "markdown",
   "metadata": {},
   "source": [
    "## Reference"
   ]
  },
  {
   "cell_type": "markdown",
   "metadata": {},
   "source": [
    "1. Tutorial for learning extract data from lastfm.api:https://www.dataquest.io/blog/last-fm-api-python/\n",
    "2. LastFM API: https://www.last.fm/api/show/track.getSimilar\n",
    "3. Second&Third dataset http://organizeyourmusic.playlistmachinery.com/\n",
    "            \n",
    "4. Plot https://www.kaggle.com/amiiiney/price-prediction-top-15-regularization-stacking\n",
    "        \n",
    "5. Basic Knowledge about how recommendation system works https://pdfs.semanticscholar.org/38bf/c92a6b0da7457e109d83ac0b26e820692206.pdf\n",
    "            \n",
    "6. linear&ridge regression https://towardsdatascience.com/a-comparison-of-shrinkage-and-selection-methods-for-linear-regression-ee4dd3a71f16\n",
    "7. normalize my response https://medium.com/@rrfd/standardize-or-normalize-examples-in-python-e3f174b65dfc\n",
    "8. Group_by method https://github.com/llSourcell/recommender_live/blob/master/Song%20Recommender_Python.ipynb\n",
    "9. Model Comparison https://towardsdatascience.com/a-comparison-of-shrinkage-and-selection-methods-for-linear-regression-ee4dd3a71f16\n",
    "        \n",
    "10. Classification https://github.com/bibikar/ee461p-project/blob/master/Scratch%20File%20Basic%20Clustering.ipynb\n",
    "            \n",
    "11. Load data to sql https://medium.com/datadriveninvestor/understanding-extract-transform-and-load-etl-and-its-necessity-in-data-analytics-world-with-an-64346016153d"
   ]
  }
 ],
 "metadata": {
  "kernelspec": {
   "display_name": "Python 3",
   "language": "python",
   "name": "python3"
  },
  "language_info": {
   "codemirror_mode": {
    "name": "ipython",
    "version": 3
   },
   "file_extension": ".py",
   "mimetype": "text/x-python",
   "name": "python",
   "nbconvert_exporter": "python",
   "pygments_lexer": "ipython3",
   "version": "3.7.3"
  }
 },
 "nbformat": 4,
 "nbformat_minor": 4
}
